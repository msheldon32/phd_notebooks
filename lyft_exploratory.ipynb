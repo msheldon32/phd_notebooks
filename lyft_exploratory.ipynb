{
 "cells": [
  {
   "cell_type": "markdown",
   "id": "67294878-0ea9-45e4-a313-ed65184b3f44",
   "metadata": {},
   "source": [
    "There is an infleciton point in trip duration, "
   ]
  },
  {
   "cell_type": "code",
   "execution_count": 1,
   "id": "94682c2a-ea63-443b-aae8-9f610408ba77",
   "metadata": {},
   "outputs": [],
   "source": [
    "import pandas as pd\n",
    "import numpy as np\n",
    "import matplotlib.pyplot as plt\n",
    "import scipy.stats as sps\n",
    "import sklearn\n",
    "import math"
   ]
  },
  {
   "cell_type": "code",
   "execution_count": 2,
   "id": "55303c8c-14e9-4d4f-b834-6cd69ecdff1b",
   "metadata": {},
   "outputs": [],
   "source": [
    "import re\n",
    "import os\n",
    "from datetime import datetime"
   ]
  },
  {
   "cell_type": "code",
   "execution_count": 3,
   "id": "aff43fae-cbea-462e-ab03-ecbafca9c48f",
   "metadata": {},
   "outputs": [],
   "source": [
    "starting_year = 2018\n",
    "ending_year = 2020"
   ]
  },
  {
   "cell_type": "code",
   "execution_count": 4,
   "id": "ed639687-01d9-440e-98b9-03721f5c4092",
   "metadata": {},
   "outputs": [],
   "source": [
    "fgb_ft = \"../tripdata/{}{}-fordgobike-tripdata.csv\"\n",
    "baywheels_ft = \"../tripdata/{}{}-baywheels-tripdata.csv\"\n",
    "is_fgb = lambda yr, mt: yr == 2018 or (yr == 2019 and mt <= 4)"
   ]
  },
  {
   "cell_type": "code",
   "execution_count": 5,
   "id": "cf26ae20-e5b6-42bd-98c2-6e21db18bfbf",
   "metadata": {},
   "outputs": [],
   "source": [
    "datetime_transform = lambda x: (datetime.strptime(x.split(\".\")[0], \"%Y-%m-%d %H:%M:%S\")) if type(x) == str else x"
   ]
  },
  {
   "cell_type": "code",
   "execution_count": 6,
   "id": "f00ce5e0-6b79-4e7a-9daf-d731cf3c27e1",
   "metadata": {},
   "outputs": [],
   "source": [
    "def baywheels_assimilation(baywheels_df):\n",
    "    # fix column names for baywheels data\n",
    "    rn_df = baywheels_df.rename({\n",
    "            \"started_at\": \"start_time\",\n",
    "            \"ended_at\": \"end_time\",\n",
    "            \"start_lat\": \"start_station_latitude\",\n",
    "            \"start_lng\": \"start_station_longitude\",\n",
    "            \"end_lat\":   \"end_station_latitude\",\n",
    "            \"end_lng\":   \"end_station_longitude\"\n",
    "        }, axis=1)\n",
    "    rn_df[\"start_time\"] = rn_df[\"start_time\"].apply(datetime_transform)\n",
    "    rn_df[\"end_time\"] = rn_df[\"end_time\"].apply(datetime_transform)\n",
    "    rn_df[\"duration_sec\"] = (rn_df[\"end_time\"] - rn_df[\"start_time\"]).apply(lambda x: x.seconds)\n",
    "    return rn_df\n",
    "\n",
    "def fgb_assimilation(fgb_df):\n",
    "    fgb_df[\"start_time\"] = fgb_df[\"start_time\"].apply(datetime_transform)\n",
    "    fgb_df[\"end_time\"] = fgb_df[\"end_time\"].apply(datetime_transform)\n",
    "    return fgb_df\n",
    "\n",
    "def data_cleanse(total_df):\n",
    "    # remove outliers w/r/t duration_sec\n",
    "    #   Use three-sigma rule for outlier removal\n",
    "    mean_duration = rn_df[\"duration_sec\"].mean()\n",
    "    std_duration = rn_df[\"duration_sec\"].\n",
    "    pass\n",
    "\n",
    "def get_aggregate_df():\n",
    "    full_df = pd.DataFrame()\n",
    "    \n",
    "    def append_to_df(yr, mt, full_df):\n",
    "        mt_str = (\"0\" if mt < 10 else \"\") + str(mt)\n",
    "        mt_df = pd.DataFrame()\n",
    "        if is_fgb(yr, mt):\n",
    "            mt_df = pd.read_csv(fgb_ft.format(yr, mt_str))\n",
    "            mt_df = fgb_assimilation(mt_df)\n",
    "        else:\n",
    "            mt_df = pd.read_csv(baywheels_ft.format(yr, mt_str))\n",
    "            mt_df = baywheels_assimilation(mt_df)\n",
    "        mt_df[\"Year\"] = yr\n",
    "        mt_df[\"Month\"] = mt\n",
    "        full_df = pd.concat([full_df, mt_df])\n",
    "        return full_df\n",
    "\n",
    "    for yr in range(starting_year, ending_year+1):\n",
    "        for mt in range(1, 12):\n",
    "            full_df = append_to_df(yr, mt, full_df)\n",
    "    return data_cleanse(full_df.reset_index(drop=True))"
   ]
  },
  {
   "cell_type": "code",
   "execution_count": 7,
   "id": "ce02ecc4-c7a8-4159-8188-ae08b88e83d2",
   "metadata": {},
   "outputs": [
    {
     "name": "stderr",
     "output_type": "stream",
     "text": [
      "/tmp/ipykernel_22148/1602006240.py:31: DtypeWarning: Columns (14) have mixed types. Specify dtype option on import or set low_memory=False.\n",
      "  mt_df = pd.read_csv(baywheels_ft.format(yr, mt_str))\n",
      "/tmp/ipykernel_22148/1602006240.py:31: DtypeWarning: Columns (13,14) have mixed types. Specify dtype option on import or set low_memory=False.\n",
      "  mt_df = pd.read_csv(baywheels_ft.format(yr, mt_str))\n",
      "/tmp/ipykernel_22148/1602006240.py:31: DtypeWarning: Columns (14) have mixed types. Specify dtype option on import or set low_memory=False.\n",
      "  mt_df = pd.read_csv(baywheels_ft.format(yr, mt_str))\n",
      "/tmp/ipykernel_22148/1602006240.py:31: DtypeWarning: Columns (13) have mixed types. Specify dtype option on import or set low_memory=False.\n",
      "  mt_df = pd.read_csv(baywheels_ft.format(yr, mt_str))\n",
      "/tmp/ipykernel_22148/1602006240.py:31: DtypeWarning: Columns (13) have mixed types. Specify dtype option on import or set low_memory=False.\n",
      "  mt_df = pd.read_csv(baywheels_ft.format(yr, mt_str))\n"
     ]
    }
   ],
   "source": [
    "agg_df = get_aggregate_df()"
   ]
  },
  {
   "cell_type": "code",
   "execution_count": 8,
   "id": "e9b5019d-48a5-47e1-9e04-83d2edd2779e",
   "metadata": {},
   "outputs": [
    {
     "data": {
      "text/html": [
       "<div>\n",
       "<style scoped>\n",
       "    .dataframe tbody tr th:only-of-type {\n",
       "        vertical-align: middle;\n",
       "    }\n",
       "\n",
       "    .dataframe tbody tr th {\n",
       "        vertical-align: top;\n",
       "    }\n",
       "\n",
       "    .dataframe thead th {\n",
       "        text-align: right;\n",
       "    }\n",
       "</style>\n",
       "<table border=\"1\" class=\"dataframe\">\n",
       "  <thead>\n",
       "    <tr style=\"text-align: right;\">\n",
       "      <th></th>\n",
       "      <th>duration_sec</th>\n",
       "      <th>start_time</th>\n",
       "      <th>end_time</th>\n",
       "      <th>start_station_id</th>\n",
       "      <th>start_station_name</th>\n",
       "      <th>start_station_latitude</th>\n",
       "      <th>start_station_longitude</th>\n",
       "      <th>end_station_id</th>\n",
       "      <th>end_station_name</th>\n",
       "      <th>end_station_latitude</th>\n",
       "      <th>end_station_longitude</th>\n",
       "      <th>bike_id</th>\n",
       "      <th>user_type</th>\n",
       "      <th>bike_share_for_all_trip</th>\n",
       "      <th>Year</th>\n",
       "      <th>Month</th>\n",
       "      <th>rental_access_method</th>\n",
       "      <th>ride_id</th>\n",
       "      <th>rideable_type</th>\n",
       "      <th>member_casual</th>\n",
       "    </tr>\n",
       "  </thead>\n",
       "  <tbody>\n",
       "    <tr>\n",
       "      <th>0</th>\n",
       "      <td>75284</td>\n",
       "      <td>2018-01-31 22:52:35</td>\n",
       "      <td>2018-02-01 19:47:19</td>\n",
       "      <td>120.0</td>\n",
       "      <td>Mission Dolores Park</td>\n",
       "      <td>37.761420</td>\n",
       "      <td>-122.426435</td>\n",
       "      <td>285.0</td>\n",
       "      <td>Webster St at O'Farrell St</td>\n",
       "      <td>37.783521</td>\n",
       "      <td>-122.431158</td>\n",
       "      <td>2765.0</td>\n",
       "      <td>Subscriber</td>\n",
       "      <td>No</td>\n",
       "      <td>2018</td>\n",
       "      <td>1</td>\n",
       "      <td>NaN</td>\n",
       "      <td>NaN</td>\n",
       "      <td>NaN</td>\n",
       "      <td>NaN</td>\n",
       "    </tr>\n",
       "    <tr>\n",
       "      <th>1</th>\n",
       "      <td>85422</td>\n",
       "      <td>2018-01-31 16:13:34</td>\n",
       "      <td>2018-02-01 15:57:17</td>\n",
       "      <td>15.0</td>\n",
       "      <td>San Francisco Ferry Building (Harry Bridges Pl...</td>\n",
       "      <td>37.795392</td>\n",
       "      <td>-122.394203</td>\n",
       "      <td>15.0</td>\n",
       "      <td>San Francisco Ferry Building (Harry Bridges Pl...</td>\n",
       "      <td>37.795392</td>\n",
       "      <td>-122.394203</td>\n",
       "      <td>2815.0</td>\n",
       "      <td>Customer</td>\n",
       "      <td>No</td>\n",
       "      <td>2018</td>\n",
       "      <td>1</td>\n",
       "      <td>NaN</td>\n",
       "      <td>NaN</td>\n",
       "      <td>NaN</td>\n",
       "      <td>NaN</td>\n",
       "    </tr>\n",
       "    <tr>\n",
       "      <th>2</th>\n",
       "      <td>71576</td>\n",
       "      <td>2018-01-31 14:23:55</td>\n",
       "      <td>2018-02-01 10:16:52</td>\n",
       "      <td>304.0</td>\n",
       "      <td>Jackson St at 5th St</td>\n",
       "      <td>37.348759</td>\n",
       "      <td>-121.894798</td>\n",
       "      <td>296.0</td>\n",
       "      <td>5th St at Virginia St</td>\n",
       "      <td>37.325998</td>\n",
       "      <td>-121.877120</td>\n",
       "      <td>3039.0</td>\n",
       "      <td>Customer</td>\n",
       "      <td>No</td>\n",
       "      <td>2018</td>\n",
       "      <td>1</td>\n",
       "      <td>NaN</td>\n",
       "      <td>NaN</td>\n",
       "      <td>NaN</td>\n",
       "      <td>NaN</td>\n",
       "    </tr>\n",
       "    <tr>\n",
       "      <th>3</th>\n",
       "      <td>61076</td>\n",
       "      <td>2018-01-31 14:53:23</td>\n",
       "      <td>2018-02-01 07:51:20</td>\n",
       "      <td>75.0</td>\n",
       "      <td>Market St at Franklin St</td>\n",
       "      <td>37.773793</td>\n",
       "      <td>-122.421239</td>\n",
       "      <td>47.0</td>\n",
       "      <td>4th St at Harrison St</td>\n",
       "      <td>37.780955</td>\n",
       "      <td>-122.399749</td>\n",
       "      <td>321.0</td>\n",
       "      <td>Customer</td>\n",
       "      <td>No</td>\n",
       "      <td>2018</td>\n",
       "      <td>1</td>\n",
       "      <td>NaN</td>\n",
       "      <td>NaN</td>\n",
       "      <td>NaN</td>\n",
       "      <td>NaN</td>\n",
       "    </tr>\n",
       "    <tr>\n",
       "      <th>4</th>\n",
       "      <td>39966</td>\n",
       "      <td>2018-01-31 19:52:24</td>\n",
       "      <td>2018-02-01 06:58:31</td>\n",
       "      <td>74.0</td>\n",
       "      <td>Laguna St at Hayes St</td>\n",
       "      <td>37.776435</td>\n",
       "      <td>-122.426244</td>\n",
       "      <td>19.0</td>\n",
       "      <td>Post St at Kearny St</td>\n",
       "      <td>37.788975</td>\n",
       "      <td>-122.403452</td>\n",
       "      <td>617.0</td>\n",
       "      <td>Subscriber</td>\n",
       "      <td>No</td>\n",
       "      <td>2018</td>\n",
       "      <td>1</td>\n",
       "      <td>NaN</td>\n",
       "      <td>NaN</td>\n",
       "      <td>NaN</td>\n",
       "      <td>NaN</td>\n",
       "    </tr>\n",
       "    <tr>\n",
       "      <th>...</th>\n",
       "      <td>...</td>\n",
       "      <td>...</td>\n",
       "      <td>...</td>\n",
       "      <td>...</td>\n",
       "      <td>...</td>\n",
       "      <td>...</td>\n",
       "      <td>...</td>\n",
       "      <td>...</td>\n",
       "      <td>...</td>\n",
       "      <td>...</td>\n",
       "      <td>...</td>\n",
       "      <td>...</td>\n",
       "      <td>...</td>\n",
       "      <td>...</td>\n",
       "      <td>...</td>\n",
       "      <td>...</td>\n",
       "      <td>...</td>\n",
       "      <td>...</td>\n",
       "      <td>...</td>\n",
       "      <td>...</td>\n",
       "    </tr>\n",
       "    <tr>\n",
       "      <th>6128439</th>\n",
       "      <td>521</td>\n",
       "      <td>2020-11-18 15:50:42</td>\n",
       "      <td>2020-11-18 15:59:23</td>\n",
       "      <td>SF-G27</td>\n",
       "      <td>Powell St BART Station (Market St at 4th St)</td>\n",
       "      <td>37.786375</td>\n",
       "      <td>-122.404904</td>\n",
       "      <td>SF-J26</td>\n",
       "      <td>Victoria Manalo Draves Park</td>\n",
       "      <td>37.777791</td>\n",
       "      <td>-122.406432</td>\n",
       "      <td>NaN</td>\n",
       "      <td>NaN</td>\n",
       "      <td>NaN</td>\n",
       "      <td>2020</td>\n",
       "      <td>11</td>\n",
       "      <td>NaN</td>\n",
       "      <td>269D5BFA09DD0931</td>\n",
       "      <td>classic_bike</td>\n",
       "      <td>member</td>\n",
       "    </tr>\n",
       "    <tr>\n",
       "      <th>6128440</th>\n",
       "      <td>320</td>\n",
       "      <td>2020-11-14 15:24:42</td>\n",
       "      <td>2020-11-14 15:30:02</td>\n",
       "      <td>SF-G27</td>\n",
       "      <td>Powell St BART Station (Market St at 4th St)</td>\n",
       "      <td>37.786286</td>\n",
       "      <td>-122.405430</td>\n",
       "      <td>SF-J26</td>\n",
       "      <td>Victoria Manalo Draves Park</td>\n",
       "      <td>37.777872</td>\n",
       "      <td>-122.406261</td>\n",
       "      <td>NaN</td>\n",
       "      <td>NaN</td>\n",
       "      <td>NaN</td>\n",
       "      <td>2020</td>\n",
       "      <td>11</td>\n",
       "      <td>NaN</td>\n",
       "      <td>278F02FC635890AC</td>\n",
       "      <td>electric_bike</td>\n",
       "      <td>member</td>\n",
       "    </tr>\n",
       "    <tr>\n",
       "      <th>6128441</th>\n",
       "      <td>907</td>\n",
       "      <td>2020-11-20 17:47:08</td>\n",
       "      <td>2020-11-20 18:02:15</td>\n",
       "      <td>SF-M28</td>\n",
       "      <td>Hubbell St at 16th St</td>\n",
       "      <td>37.766594</td>\n",
       "      <td>-122.398198</td>\n",
       "      <td>SF-J26</td>\n",
       "      <td>Victoria Manalo Draves Park</td>\n",
       "      <td>37.777791</td>\n",
       "      <td>-122.406432</td>\n",
       "      <td>NaN</td>\n",
       "      <td>NaN</td>\n",
       "      <td>NaN</td>\n",
       "      <td>2020</td>\n",
       "      <td>11</td>\n",
       "      <td>NaN</td>\n",
       "      <td>930A485FE53F3F45</td>\n",
       "      <td>docked_bike</td>\n",
       "      <td>casual</td>\n",
       "    </tr>\n",
       "    <tr>\n",
       "      <th>6128442</th>\n",
       "      <td>840</td>\n",
       "      <td>2020-11-12 17:28:24</td>\n",
       "      <td>2020-11-12 17:42:24</td>\n",
       "      <td>SF-B28</td>\n",
       "      <td>Cruise Terminal at Pier 27</td>\n",
       "      <td>37.804626</td>\n",
       "      <td>-122.401971</td>\n",
       "      <td>SF-J26</td>\n",
       "      <td>Victoria Manalo Draves Park</td>\n",
       "      <td>37.777834</td>\n",
       "      <td>-122.406190</td>\n",
       "      <td>NaN</td>\n",
       "      <td>NaN</td>\n",
       "      <td>NaN</td>\n",
       "      <td>2020</td>\n",
       "      <td>11</td>\n",
       "      <td>NaN</td>\n",
       "      <td>28F384249871A053</td>\n",
       "      <td>electric_bike</td>\n",
       "      <td>member</td>\n",
       "    </tr>\n",
       "    <tr>\n",
       "      <th>6128443</th>\n",
       "      <td>645</td>\n",
       "      <td>2020-11-20 07:38:16</td>\n",
       "      <td>2020-11-20 07:49:01</td>\n",
       "      <td>SF-B28</td>\n",
       "      <td>Cruise Terminal at Pier 27</td>\n",
       "      <td>37.804580</td>\n",
       "      <td>-122.402007</td>\n",
       "      <td>SF-J26</td>\n",
       "      <td>Victoria Manalo Draves Park</td>\n",
       "      <td>37.777767</td>\n",
       "      <td>-122.406270</td>\n",
       "      <td>NaN</td>\n",
       "      <td>NaN</td>\n",
       "      <td>NaN</td>\n",
       "      <td>2020</td>\n",
       "      <td>11</td>\n",
       "      <td>NaN</td>\n",
       "      <td>11800E6F02EF7FD8</td>\n",
       "      <td>electric_bike</td>\n",
       "      <td>casual</td>\n",
       "    </tr>\n",
       "  </tbody>\n",
       "</table>\n",
       "<p>6128444 rows × 20 columns</p>\n",
       "</div>"
      ],
      "text/plain": [
       "         duration_sec          start_time            end_time  \\\n",
       "0               75284 2018-01-31 22:52:35 2018-02-01 19:47:19   \n",
       "1               85422 2018-01-31 16:13:34 2018-02-01 15:57:17   \n",
       "2               71576 2018-01-31 14:23:55 2018-02-01 10:16:52   \n",
       "3               61076 2018-01-31 14:53:23 2018-02-01 07:51:20   \n",
       "4               39966 2018-01-31 19:52:24 2018-02-01 06:58:31   \n",
       "...               ...                 ...                 ...   \n",
       "6128439           521 2020-11-18 15:50:42 2020-11-18 15:59:23   \n",
       "6128440           320 2020-11-14 15:24:42 2020-11-14 15:30:02   \n",
       "6128441           907 2020-11-20 17:47:08 2020-11-20 18:02:15   \n",
       "6128442           840 2020-11-12 17:28:24 2020-11-12 17:42:24   \n",
       "6128443           645 2020-11-20 07:38:16 2020-11-20 07:49:01   \n",
       "\n",
       "        start_station_id                                 start_station_name  \\\n",
       "0                  120.0                               Mission Dolores Park   \n",
       "1                   15.0  San Francisco Ferry Building (Harry Bridges Pl...   \n",
       "2                  304.0                               Jackson St at 5th St   \n",
       "3                   75.0                           Market St at Franklin St   \n",
       "4                   74.0                              Laguna St at Hayes St   \n",
       "...                  ...                                                ...   \n",
       "6128439           SF-G27       Powell St BART Station (Market St at 4th St)   \n",
       "6128440           SF-G27       Powell St BART Station (Market St at 4th St)   \n",
       "6128441           SF-M28                              Hubbell St at 16th St   \n",
       "6128442           SF-B28                         Cruise Terminal at Pier 27   \n",
       "6128443           SF-B28                         Cruise Terminal at Pier 27   \n",
       "\n",
       "         start_station_latitude  start_station_longitude end_station_id  \\\n",
       "0                     37.761420              -122.426435          285.0   \n",
       "1                     37.795392              -122.394203           15.0   \n",
       "2                     37.348759              -121.894798          296.0   \n",
       "3                     37.773793              -122.421239           47.0   \n",
       "4                     37.776435              -122.426244           19.0   \n",
       "...                         ...                      ...            ...   \n",
       "6128439               37.786375              -122.404904         SF-J26   \n",
       "6128440               37.786286              -122.405430         SF-J26   \n",
       "6128441               37.766594              -122.398198         SF-J26   \n",
       "6128442               37.804626              -122.401971         SF-J26   \n",
       "6128443               37.804580              -122.402007         SF-J26   \n",
       "\n",
       "                                          end_station_name  \\\n",
       "0                               Webster St at O'Farrell St   \n",
       "1        San Francisco Ferry Building (Harry Bridges Pl...   \n",
       "2                                    5th St at Virginia St   \n",
       "3                                    4th St at Harrison St   \n",
       "4                                     Post St at Kearny St   \n",
       "...                                                    ...   \n",
       "6128439                        Victoria Manalo Draves Park   \n",
       "6128440                        Victoria Manalo Draves Park   \n",
       "6128441                        Victoria Manalo Draves Park   \n",
       "6128442                        Victoria Manalo Draves Park   \n",
       "6128443                        Victoria Manalo Draves Park   \n",
       "\n",
       "         end_station_latitude  end_station_longitude  bike_id   user_type  \\\n",
       "0                   37.783521            -122.431158   2765.0  Subscriber   \n",
       "1                   37.795392            -122.394203   2815.0    Customer   \n",
       "2                   37.325998            -121.877120   3039.0    Customer   \n",
       "3                   37.780955            -122.399749    321.0    Customer   \n",
       "4                   37.788975            -122.403452    617.0  Subscriber   \n",
       "...                       ...                    ...      ...         ...   \n",
       "6128439             37.777791            -122.406432      NaN         NaN   \n",
       "6128440             37.777872            -122.406261      NaN         NaN   \n",
       "6128441             37.777791            -122.406432      NaN         NaN   \n",
       "6128442             37.777834            -122.406190      NaN         NaN   \n",
       "6128443             37.777767            -122.406270      NaN         NaN   \n",
       "\n",
       "        bike_share_for_all_trip  Year  Month rental_access_method  \\\n",
       "0                            No  2018      1                  NaN   \n",
       "1                            No  2018      1                  NaN   \n",
       "2                            No  2018      1                  NaN   \n",
       "3                            No  2018      1                  NaN   \n",
       "4                            No  2018      1                  NaN   \n",
       "...                         ...   ...    ...                  ...   \n",
       "6128439                     NaN  2020     11                  NaN   \n",
       "6128440                     NaN  2020     11                  NaN   \n",
       "6128441                     NaN  2020     11                  NaN   \n",
       "6128442                     NaN  2020     11                  NaN   \n",
       "6128443                     NaN  2020     11                  NaN   \n",
       "\n",
       "                  ride_id  rideable_type member_casual  \n",
       "0                     NaN            NaN           NaN  \n",
       "1                     NaN            NaN           NaN  \n",
       "2                     NaN            NaN           NaN  \n",
       "3                     NaN            NaN           NaN  \n",
       "4                     NaN            NaN           NaN  \n",
       "...                   ...            ...           ...  \n",
       "6128439  269D5BFA09DD0931   classic_bike        member  \n",
       "6128440  278F02FC635890AC  electric_bike        member  \n",
       "6128441  930A485FE53F3F45    docked_bike        casual  \n",
       "6128442  28F384249871A053  electric_bike        member  \n",
       "6128443  11800E6F02EF7FD8  electric_bike        casual  \n",
       "\n",
       "[6128444 rows x 20 columns]"
      ]
     },
     "execution_count": 8,
     "metadata": {},
     "output_type": "execute_result"
    }
   ],
   "source": [
    "agg_df"
   ]
  },
  {
   "cell_type": "code",
   "execution_count": 9,
   "id": "27ee3c7e-778a-46a3-93b4-7732e7739c39",
   "metadata": {},
   "outputs": [
    {
     "data": {
      "text/plain": [
       "(array([ 428209., 1343644., 1322295.,  979585.,  653259.,  417367.,\n",
       "         263689.,  173031.,  121050.,   78801.]),\n",
       " array([   0.,  200.,  400.,  600.,  800., 1000., 1200., 1400., 1600.,\n",
       "        1800., 2000.]),\n",
       " <BarContainer object of 10 artists>)"
      ]
     },
     "execution_count": 9,
     "metadata": {},
     "output_type": "execute_result"
    },
    {
     "data": {
      "image/png": "[encoded data removed]",
      "text/plain": [
       "<Figure size 432x288 with 1 Axes>"
      ]
     },
     "metadata": {
      "needs_background": "light"
     },
     "output_type": "display_data"
    }
   ],
   "source": [
    "plt.hist(agg_df[agg_df[\"duration_sec\"] <= 2000][\"duration_sec\"])"
   ]
  },
  {
   "cell_type": "code",
   "execution_count": 10,
   "id": "30b8b374-6892-48d2-8af1-543d3023925a",
   "metadata": {},
   "outputs": [],
   "source": [
    "station_trip_means = agg_df.groupby([\"start_station_id\",\"end_station_id\"])[\"duration_sec\"].mean().reset_index().rename({\"duration_sec\": \"mean_trip_duration\"},axis=1)"
   ]
  },
  {
   "cell_type": "code",
   "execution_count": 11,
   "id": "ed575f30-72f6-4365-926c-fac8e4063afe",
   "metadata": {},
   "outputs": [],
   "source": [
    "mean_agg_df = agg_df.merge(station_trip_means, on=[\"start_station_id\", \"end_station_id\"], how=\"left\")"
   ]
  },
  {
   "cell_type": "code",
   "execution_count": 12,
   "id": "806683e9-53b9-453b-8622-2da2c7a5a003",
   "metadata": {},
   "outputs": [],
   "source": [
    "mean_agg_df[\"trip ratio\"] = mean_agg_df[\"duration_sec\"]/mean_agg_df[\"mean_trip_duration\"]"
   ]
  },
  {
   "cell_type": "code",
   "execution_count": 13,
   "id": "a669a1e6-b34a-4fc4-b7c8-036410dcf419",
   "metadata": {},
   "outputs": [
    {
     "data": {
      "text/plain": [
       "(array([ 54404.,  63289.,  96534., 156189., 249088., 385875., 557034.,\n",
       "        705806., 741121., 634681., 448502., 251448., 148491.,  92755.,\n",
       "         62432.,  44964.,  34369.,  26649.,  21583.,  17963.]),\n",
       " array([0. , 0.1, 0.2, 0.3, 0.4, 0.5, 0.6, 0.7, 0.8, 0.9, 1. , 1.1, 1.2,\n",
       "        1.3, 1.4, 1.5, 1.6, 1.7, 1.8, 1.9, 2. ]),\n",
       " <BarContainer object of 20 artists>)"
      ]
     },
     "execution_count": 13,
     "metadata": {},
     "output_type": "execute_result"
    },
    {
     "data": {
      "image/png": "[encoded data removed]",
      "text/plain": [
       "<Figure size 432x288 with 1 Axes>"
      ]
     },
     "metadata": {
      "needs_background": "light"
     },
     "output_type": "display_data"
    }
   ],
   "source": [
    "plt.hist(mean_agg_df[mean_agg_df[\"trip ratio\"] <= 2.0][\"trip ratio\"], bins=20)"
   ]
  },
  {
   "cell_type": "code",
   "execution_count": 14,
   "id": "7a29c820-8a6d-45a4-be39-04b179c4dff6",
   "metadata": {},
   "outputs": [
    {
     "data": {
      "text/plain": [
       "<matplotlib.collections.PathCollection at 0x7fa56c2d2c70>"
      ]
     },
     "execution_count": 14,
     "metadata": {},
     "output_type": "execute_result"
    },
    {
     "data": {
      "image/png": "[encoded data removed]",
      "text/plain": [
       "<Figure size 432x288 with 1 Axes>"
      ]
     },
     "metadata": {
      "needs_background": "light"
     },
     "output_type": "display_data"
    }
   ],
   "source": [
    "agg_sf = agg_df[agg_df[\"start_station_latitude\"].apply(lambda x: x >=37 and x <=39) & agg_df[\"start_station_longitude\"].apply(lambda x: x >=-125 and x <=-115) ]\n",
    "\n",
    "plt.scatter(agg_sf[\"start_station_longitude\"], agg_sf[\"start_station_latitude\"])"
   ]
  },
  {
   "cell_type": "code",
   "execution_count": 15,
   "id": "c12f16eb-6fc5-444b-bdce-b91998a144aa",
   "metadata": {},
   "outputs": [],
   "source": [
    "# [longitude_range, latitude_range]\n",
    "city_rectangles = {\n",
    "    \"Nashville\": [[-90,-80],[35,37]],\n",
    "    \"NorthCal\": [[-125,-115],[37,39]],\n",
    "}"
   ]
  },
  {
   "cell_type": "code",
   "execution_count": 16,
   "id": "e0668c3a-5c73-461c-84d9-1ee4a04b8f58",
   "metadata": {},
   "outputs": [],
   "source": [
    "# within the bay area we have approx 3 distinct clusters:\n",
    "#    San Francisco: [[-122.55,-122.35], [37.67,37.82]]\n",
    "#    Oakland: [[-122.35, -122.12], [37.7, 37.92]]\n",
    "#    San Jose: [[-122, -121.75], [37.2, 37.5]]"
   ]
  },
  {
   "cell_type": "code",
   "execution_count": null,
   "id": "74346b90-8d7f-4c16-95ab-a60bbb1f118d",
   "metadata": {},
   "outputs": [],
   "source": [
    "bay_rectangles = {\n",
    "    \"San Francisco\": [[-122.55,-122.35], [37.67,37.82]],\n",
    "    \"Oakland\": [[-122.35, -122.12], [37.7, 37.92]],\n",
    "    \"San Jose\": [[-122, -121.75], [37.2, 37.5]],\n",
    "}"
   ]
  },
  {
   "cell_type": "code",
   "execution_count": 17,
   "id": "eb18c044-c4f9-4725-96fe-66c45d95520f",
   "metadata": {},
   "outputs": [
    {
     "data": {
      "text/plain": [
       "<matplotlib.collections.PathCollection at 0x7fa565394dc0>"
      ]
     },
     "execution_count": 17,
     "metadata": {},
     "output_type": "execute_result"
    },
    {
     "data": {
      "image/png": "[encoded data removed]",
      "text/plain": [
       "<Figure size 432x288 with 1 Axes>"
      ]
     },
     "metadata": {
      "needs_background": "light"
     },
     "output_type": "display_data"
    }
   ],
   "source": [
    "agg_sf = agg_df[agg_df[\"start_station_latitude\"].apply(lambda x: x >=37.7 and x <=37.8) & agg_df[\"start_station_longitude\"].apply(lambda x: x >=-122.55 and x <=-122.35) ]\n",
    "\n",
    "plt.scatter(agg_sf[\"start_station_longitude\"], agg_sf[\"start_station_latitude\"])"
   ]
  },
  {
   "cell_type": "code",
   "execution_count": 26,
   "id": "8e4f3d92-5a1a-4a07-87fe-319ff36603a1",
   "metadata": {},
   "outputs": [
    {
     "data": {
      "text/plain": [
       "(array([ 58888., 224067., 404230., 491829., 508252., 477978., 418891.,\n",
       "        353330., 291907., 237099.]),\n",
       " array([   0.,  100.,  200.,  300.,  400.,  500.,  600.,  700.,  800.,\n",
       "         900., 1000.]),\n",
       " <BarContainer object of 10 artists>)"
      ]
     },
     "execution_count": 26,
     "metadata": {},
     "output_type": "execute_result"
    },
    {
     "data": {
      "image/png": "[encoded data removed]",
      "text/plain": [
       "<Figure size 432x288 with 1 Axes>"
      ]
     },
     "metadata": {
      "needs_background": "light"
     },
     "output_type": "display_data"
    }
   ],
   "source": [
    "plt.hist(agg_sf[agg_sf[\"duration_sec\"] <= 1000][\"duration_sec\"])"
   ]
  },
  {
   "cell_type": "code",
   "execution_count": 28,
   "id": "4b1d7a7c-874b-4638-9885-cce674cbe4a8",
   "metadata": {},
   "outputs": [
    {
     "data": {
      "text/html": [
       "<div>\n",
       "<style scoped>\n",
       "    .dataframe tbody tr th:only-of-type {\n",
       "        vertical-align: middle;\n",
       "    }\n",
       "\n",
       "    .dataframe tbody tr th {\n",
       "        vertical-align: top;\n",
       "    }\n",
       "\n",
       "    .dataframe thead th {\n",
       "        text-align: right;\n",
       "    }\n",
       "</style>\n",
       "<table border=\"1\" class=\"dataframe\">\n",
       "  <thead>\n",
       "    <tr style=\"text-align: right;\">\n",
       "      <th></th>\n",
       "      <th>start_station_longitude</th>\n",
       "      <th>start_station_latitude</th>\n",
       "      <th>end_station_longitude</th>\n",
       "      <th>end_station_latitude</th>\n",
       "    </tr>\n",
       "  </thead>\n",
       "  <tbody>\n",
       "    <tr>\n",
       "      <th>0</th>\n",
       "      <td>-122.417385</td>\n",
       "      <td>37.776619</td>\n",
       "      <td>-122.395282</td>\n",
       "      <td>37.776598</td>\n",
       "    </tr>\n",
       "  </tbody>\n",
       "</table>\n",
       "</div>"
      ],
      "text/plain": [
       "   start_station_longitude  start_station_latitude  end_station_longitude  \\\n",
       "0              -122.417385               37.776619            -122.395282   \n",
       "\n",
       "   end_station_latitude  \n",
       "0             37.776598  "
      ]
     },
     "execution_count": 28,
     "metadata": {},
     "output_type": "execute_result"
    }
   ],
   "source": [
    "agg_sf[[\"start_station_longitude\", \"start_station_latitude\", \"end_station_longitude\", \"end_station_latitude\"]].mode()"
   ]
  },
  {
   "cell_type": "code",
   "execution_count": 32,
   "id": "7fd6983d-9ea1-48ea-b0e2-8f19121ec5e4",
   "metadata": {},
   "outputs": [],
   "source": [
    "class SourceDest:\n",
    "    def __init__(self, st_long, st_lat, end_long, end_lat):\n",
    "        self.st_long  = st_long\n",
    "        self.st_lat   = st_lat\n",
    "        self.end_long = end_long\n",
    "        self.end_lat  = end_lat\n",
    "    def df_filter(self, df):\n",
    "        return df[(df[\"start_station_longitude\"] == self.st_long) &\n",
    "                  (df[\"start_station_latitude\"] == self.st_lat) &\n",
    "                  (df[\"end_station_longitude\"] == self.st_long) &\n",
    "                  (df[\"end_station_latitude\"]  == self.st_lat)]"
   ]
  },
  {
   "cell_type": "code",
   "execution_count": 33,
   "id": "a66b61ba-ec72-47c0-a1da-a461f2c35a4b",
   "metadata": {},
   "outputs": [],
   "source": [
    "mode_sd = SourceDest(-122.417385, 37.776619, -122.395282, 37.776598)"
   ]
  },
  {
   "cell_type": "code",
   "execution_count": 105,
   "id": "d857a052-ac83-4f99-acf4-a17df9a0556a",
   "metadata": {},
   "outputs": [],
   "source": [
    "mode_agg = mode_sd.df_filter(agg_sf)"
   ]
  },
  {
   "cell_type": "code",
   "execution_count": 106,
   "id": "0205b232-d381-440b-9e66-0782df7cdcb5",
   "metadata": {},
   "outputs": [
    {
     "data": {
      "text/plain": [
       "(array([ 85.,  67., 137.,  73.,  61.,  40.,  26.,  22.,  21.,  16.]),\n",
       " array([  2. ,  31.7,  61.4,  91.1, 120.8, 150.5, 180.2, 209.9, 239.6,\n",
       "        269.3, 299. ]),\n",
       " <BarContainer object of 10 artists>)"
      ]
     },
     "execution_count": 106,
     "metadata": {},
     "output_type": "execute_result"
    },
    {
     "data": {
      "image/png": "[encoded data removed]",
      "text/plain": [
       "<Figure size 432x288 with 1 Axes>"
      ]
     },
     "metadata": {
      "needs_background": "light"
     },
     "output_type": "display_data"
    }
   ],
   "source": [
    "plt.hist(mode_agg[mode_agg[\"duration_sec\"] < 300][\"duration_sec\"])"
   ]
  },
  {
   "cell_type": "code",
   "execution_count": 142,
   "id": "104700b6-8986-45a4-8e42-7b450fd154df",
   "metadata": {},
   "outputs": [],
   "source": [
    "def get_erlang_params(duration_data):\n",
    "    dur_mean = duration_data.mean()\n",
    "    dur_std = duration_data.std()\n",
    "    erlang_rate = dur_mean/(dur_std**2)\n",
    "    erlang_k = round(dur_mean*erlang_rate)\n",
    "    erlang_rate = float(erlang_k)/dur_mean\n",
    "    #exp_rate = 1/dur_mean\n",
    "    return [erlang_rate, erlang_k]"
   ]
  },
  {
   "cell_type": "code",
   "execution_count": 141,
   "id": "3ae1c9ed-620f-420d-ac21-24fff87cc1b6",
   "metadata": {},
   "outputs": [],
   "source": [
    "def erlang_cdf(x, erlang_params):\n",
    "    erlang_rate = erlang_params[0]\n",
    "    erlang_k = erlang_params[1]\n",
    "    acc = 0.0\n",
    "    for n in range(erlang_k):\n",
    "        sterm  = (erlang_rate*x)**n\n",
    "        sterm *= (math.e**(-1.0*erlang_rate*x))\n",
    "        sterm /= (math.factorial(n))\n",
    "        acc += sterm\n",
    "    return 1-acc\n",
    "\n",
    "def exp_cdf(x, exp_params):\n",
    "    exp_rate = exp_params[0]\n",
    "    return 1- (math.e**(-1.0*exp_rate*x))"
   ]
  },
  {
   "cell_type": "code",
   "execution_count": 151,
   "id": "e0f892eb-4e91-4c37-b497-52e4fb511236",
   "metadata": {},
   "outputs": [],
   "source": [
    "filter_ma = mode_agg[(mode_agg[\"start_time\"] >= datetime(2020,1,1)) & (mode_agg[\"duration_sec\"] < 300)]"
   ]
  },
  {
   "cell_type": "code",
   "execution_count": 152,
   "id": "a3e2c0c5-5b25-42d5-8783-717777c478c0",
   "metadata": {},
   "outputs": [
    {
     "data": {
      "text/plain": [
       "(array([83., 62., 36., 18., 21., 12.,  6.,  2.,  3.,  3.]),\n",
       " array([  2.,  31.,  60.,  89., 118., 147., 176., 205., 234., 263., 292.]),\n",
       " <BarContainer object of 10 artists>)"
      ]
     },
     "execution_count": 152,
     "metadata": {},
     "output_type": "execute_result"
    },
    {
     "data": {
      "image/png": "[encoded data removed]",
      "text/plain": [
       "<Figure size 432x288 with 1 Axes>"
      ]
     },
     "metadata": {
      "needs_background": "light"
     },
     "output_type": "display_data"
    }
   ],
   "source": [
    "plt.hist(filter_ma[\"duration_sec\"])"
   ]
  },
  {
   "cell_type": "code",
   "execution_count": 154,
   "id": "40736436-885f-4621-88d8-511bf7169ce7",
   "metadata": {},
   "outputs": [],
   "source": [
    "filter_params = get_erlang_params(filter_ma[\"duration_sec\"])"
   ]
  },
  {
   "cell_type": "code",
   "execution_count": 155,
   "id": "dc7f5384-2a99-4c55-8346-d36399dee680",
   "metadata": {},
   "outputs": [
    {
     "data": {
      "text/plain": [
       "0.5409876423807121"
      ]
     },
     "execution_count": 155,
     "metadata": {},
     "output_type": "execute_result"
    }
   ],
   "source": [
    "erlang_cdf(50, filter_params)"
   ]
  },
  {
   "cell_type": "code",
   "execution_count": 156,
   "id": "72cacc9a-d1c7-4184-9ac1-76b8cea93c6e",
   "metadata": {},
   "outputs": [
    {
     "data": {
      "text/plain": [
       "KstestResult(statistic=0.052264792115450986, pvalue=0.4959719896455598)"
      ]
     },
     "execution_count": 156,
     "metadata": {},
     "output_type": "execute_result"
    }
   ],
   "source": [
    "sps.kstest(filter_ma[\"duration_sec\"], lambda x: exp_cdf(x, filter_params))"
   ]
  },
  {
   "cell_type": "code",
   "execution_count": 157,
   "id": "b7fadd6a-7baa-4406-81d0-0406ecc7c1f2",
   "metadata": {},
   "outputs": [
    {
     "data": {
      "text/plain": [
       "[0.015573562927323372, 1]"
      ]
     },
     "execution_count": 157,
     "metadata": {},
     "output_type": "execute_result"
    }
   ],
   "source": [
    "filter_params"
   ]
  },
  {
   "cell_type": "code",
   "execution_count": null,
   "id": "158db7ac-5e94-4cb7-a4ed-2cce070fe623",
   "metadata": {},
   "outputs": [],
   "source": []
  }
 ],
 "metadata": {
  "kernelspec": {
   "display_name": "Python 3 (ipykernel)",
   "language": "python",
   "name": "python3"
  },
  "language_info": {
   "codemirror_mode": {
    "name": "ipython",
    "version": 3
   },
   "file_extension": ".py",
   "mimetype": "text/x-python",
   "name": "python",
   "nbconvert_exporter": "python",
   "pygments_lexer": "ipython3",
   "version": "3.9.7"
  }
 },
 "nbformat": 4,
 "nbformat_minor": 5
}
