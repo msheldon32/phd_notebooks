{
 "cells": [
  {
   "cell_type": "code",
   "execution_count": 78,
   "id": "ffeeb03c-4c79-4c42-8f3c-9fcb7a19b6c3",
   "metadata": {},
   "outputs": [],
   "source": [
    "import random\n",
    "import math\n",
    "import numpy as np"
   ]
  },
  {
   "cell_type": "code",
   "execution_count": 22,
   "id": "4c11c606-c71f-496f-828c-49cfe4f85a95",
   "metadata": {},
   "outputs": [],
   "source": [
    "def create_cdf(pdf):\n",
    "    acc = 0\n",
    "    cdf = []\n",
    "    for p in pdf:\n",
    "        acc += p\n",
    "        cdf.append(acc)\n",
    "    return cdf\n",
    "\n",
    "def generate_from_cdf(cdf):\n",
    "    u = random.random()\n",
    "    for i, c in enumerate(cdf):\n",
    "        if u < c:\n",
    "            return i\n",
    "    return -1"
   ]
  },
  {
   "cell_type": "code",
   "execution_count": 65,
   "id": "56ad4cbf-6e41-44c4-a92b-829350eafd2c",
   "metadata": {},
   "outputs": [],
   "source": [
    "class PhaseType:\n",
    "    def __init__(self, pi, d0):\n",
    "        self.n_rates = len(pi)\n",
    "        self.pi = pi\n",
    "        self.d0 = d0\n",
    "        self.state_cdf = create_cdf(self.pi)\n",
    "        self.t_matrix = [[(x if x > 0 else 0) for x in row] for row in self.d0]\n",
    "        int_trates = [sum([(-x if x < 0 else 0) for x in row]) for row in self.d0]\n",
    "        ex_trates = [sum(row) for row in self.t_matrix]\n",
    "        # absorption rates\n",
    "        self.a_rates = [x-y for x,y in zip(int_trates, ex_trates)]\n",
    "        \n",
    "    def generate(self,n=1):\n",
    "        if n > 1:\n",
    "            out_list = []\n",
    "            for i in range(n):\n",
    "                out_list += self.generate()\n",
    "            return out_list\n",
    "        cur_state = generate_from_cdf(self.state_cdf)\n",
    "        t = 0\n",
    "        while cur_state != self.n_rates:\n",
    "            transitions = self.t_matrix[cur_state]\n",
    "            abs_rate = self.a_rates[cur_state]\n",
    "            total_rate = sum(transitions) + abs_rate\n",
    "            t_pdf = [t/total_rate for t in transitions] + [abs_rate/total_rate]\n",
    "            t_cdf = create_cdf(t_pdf)\n",
    "            t += generate_exp(1, total_rate)[0]\n",
    "            cur_state = generate_from_cdf(t_cdf)\n",
    "        return [t]"
   ]
  },
  {
   "cell_type": "code",
   "execution_count": 66,
   "id": "212643ee-231a-4c61-84bc-3fd45f978aea",
   "metadata": {},
   "outputs": [],
   "source": [
    "def generate_exp(n, rate):\n",
    "    out_list = []\n",
    "    for i in range(n):\n",
    "        u = random.random()\n",
    "        out_list.append(-math.log(u)/rate)\n",
    "    return out_list"
   ]
  },
  {
   "cell_type": "code",
   "execution_count": 118,
   "id": "fe968bde-8809-4d5b-873e-e58c8bdb0b09",
   "metadata": {},
   "outputs": [],
   "source": [
    "erlang_pi = [1.0, 0.0]\n",
    "erlang_d = [[-1.0, 1.0],\n",
    "            [0, -1.0]]\n",
    "erlang_d = PhaseType(erlang_pi, erlang_d)"
   ]
  },
  {
   "cell_type": "code",
   "execution_count": 119,
   "id": "05c6aa8d-8e8d-4237-a809-bd6b21453fb7",
   "metadata": {},
   "outputs": [],
   "source": [
    "erlangs = erlang_d.generate(5000)"
   ]
  },
  {
   "cell_type": "code",
   "execution_count": 120,
   "id": "9748e6cc-cdeb-4267-bf27-6039c79c3c5d",
   "metadata": {},
   "outputs": [
    {
     "data": {
      "text/plain": [
       "2.045819193607778"
      ]
     },
     "execution_count": 120,
     "metadata": {},
     "output_type": "execute_result"
    }
   ],
   "source": [
    "sum(erlangs)/5000"
   ]
  },
  {
   "cell_type": "code",
   "execution_count": 121,
   "id": "7c981d6f-a0d5-4560-b1ba-e179617d8929",
   "metadata": {},
   "outputs": [
    {
     "data": {
      "text/plain": [
       "10229.095968038891"
      ]
     },
     "execution_count": 121,
     "metadata": {},
     "output_type": "execute_result"
    }
   ],
   "source": [
    "sum(erlangs)"
   ]
  },
  {
   "cell_type": "code",
   "execution_count": 122,
   "id": "5e5454ca-e708-40dd-bad0-c60d670eb071",
   "metadata": {},
   "outputs": [
    {
     "data": {
      "text/plain": [
       "1.4497401280077278"
      ]
     },
     "execution_count": 122,
     "metadata": {},
     "output_type": "execute_result"
    }
   ],
   "source": [
    "np.array(erlangs).std()"
   ]
  },
  {
   "cell_type": "code",
   "execution_count": 123,
   "id": "2623e2f1-f4fa-4043-a58b-11ed95154cfe",
   "metadata": {},
   "outputs": [
    {
     "data": {
      "text/plain": [
       "1.4142135623730951"
      ]
     },
     "execution_count": 123,
     "metadata": {},
     "output_type": "execute_result"
    }
   ],
   "source": [
    "math.sqrt(2)"
   ]
  },
  {
   "cell_type": "code",
   "execution_count": null,
   "id": "1b702d21-e12e-4321-b0b7-606b655c089a",
   "metadata": {},
   "outputs": [],
   "source": [
    "def iterative_fit(moments):\n",
    "    n_moments = len(moments)\n",
    "    normalized_moments = [moments[0]]\n",
    "    \n",
    "    # generate normalized moments\n",
    "    for s, m in enumerate(moments[1:]):\n",
    "        i = s+1\n",
    "        n_i = moments[i]/(moments[i-1]*moments[0])\n",
    "        normalized_moments.append(n_i)\n",
    "    for j in range(n_moments, 1, -1):\n",
    "        # use eq 3.35 n^(j)_(2j-2)\n",
    "        pass"
   ]
  },
  {
   "cell_type": "code",
   "execution_count": null,
   "id": "0bc7209b-ebee-441d-9552-92785b6ad038",
   "metadata": {},
   "outputs": [],
   "source": []
  }
 ],
 "metadata": {
  "kernelspec": {
   "display_name": "Python 3 (ipykernel)",
   "language": "python",
   "name": "python3"
  },
  "language_info": {
   "codemirror_mode": {
    "name": "ipython",
    "version": 3
   },
   "file_extension": ".py",
   "mimetype": "text/x-python",
   "name": "python",
   "nbconvert_exporter": "python",
   "pygments_lexer": "ipython3",
   "version": "3.9.7"
  }
 },
 "nbformat": 4,
 "nbformat_minor": 5
}
