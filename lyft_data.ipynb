{
 "cells": [
  {
   "cell_type": "code",
   "execution_count": 1,
   "id": "1ece5b2b-fe36-4bb3-a73d-2292c3bb4a69",
   "metadata": {},
   "outputs": [],
   "source": [
    "import pandas as pd\n",
    "import numpy as np\n",
    "import matplotlib.pyplot as plt\n",
    "import scipy.stats as sps\n",
    "import sklearn\n",
    "import math"
   ]
  },
  {
   "cell_type": "code",
   "execution_count": 2,
   "id": "6429fa49-ca01-4efc-8996-dc3847c4eb9d",
   "metadata": {},
   "outputs": [],
   "source": [
    "import re\n",
    "import os\n",
    "from datetime import datetime"
   ]
  },
  {
   "cell_type": "code",
   "execution_count": 3,
   "id": "2278f29d-afc9-4df2-b6d1-010d6324e18f",
   "metadata": {},
   "outputs": [],
   "source": [
    "import random"
   ]
  },
  {
   "cell_type": "code",
   "execution_count": 4,
   "id": "3b7960a0-2c3d-4f49-9383-8b1c70cab987",
   "metadata": {},
   "outputs": [],
   "source": [
    "starting_year = 2018\n",
    "ending_year = 2020"
   ]
  },
  {
   "cell_type": "code",
   "execution_count": 5,
   "id": "238da47c-b48d-443a-81c8-38e9572ce946",
   "metadata": {},
   "outputs": [],
   "source": [
    "fgb_ft = \"../tripdata/{}{}-fordgobike-tripdata.csv\"\n",
    "baywheels_ft = \"../tripdata/{}{}-baywheels-tripdata.csv\"\n",
    "is_fgb = lambda yr, mt: yr == 2018 or (yr == 2019 and mt <= 4)"
   ]
  },
  {
   "cell_type": "code",
   "execution_count": 6,
   "id": "dcc7eb5b-9757-445d-9ad5-2847c09ba249",
   "metadata": {},
   "outputs": [],
   "source": [
    "datetime_transform = lambda x: (datetime.strptime(x.split(\".\")[0], \"%Y-%m-%d %H:%M:%S\")) if type(x) == str else x"
   ]
  },
  {
   "cell_type": "code",
   "execution_count": 7,
   "id": "fc4fe0f1-eacd-48aa-9161-8257cd431489",
   "metadata": {},
   "outputs": [],
   "source": [
    "def baywheels_assimilation(baywheels_df):\n",
    "    # fix column names for baywheels data\n",
    "    rn_df = baywheels_df.rename({\n",
    "            \"started_at\": \"start_time\",\n",
    "            \"ended_at\": \"end_time\",\n",
    "            \"start_lat\": \"start_station_latitude\",\n",
    "            \"start_lng\": \"start_station_longitude\",\n",
    "            \"end_lat\":   \"end_station_latitude\",\n",
    "            \"end_lng\":   \"end_station_longitude\"\n",
    "        }, axis=1)\n",
    "    rn_df[\"start_time\"] = rn_df[\"start_time\"].apply(datetime_transform)\n",
    "    rn_df[\"end_time\"] = rn_df[\"end_time\"].apply(datetime_transform)\n",
    "    rn_df[\"duration_sec\"] = (rn_df[\"end_time\"] - rn_df[\"start_time\"]).apply(lambda x: x.seconds)\n",
    "    return rn_df\n",
    "\n",
    "def fgb_assimilation(fgb_df):\n",
    "    fgb_df[\"start_time\"] = fgb_df[\"start_time\"].apply(datetime_transform)\n",
    "    fgb_df[\"end_time\"] = fgb_df[\"end_time\"].apply(datetime_transform)\n",
    "    return fgb_df\n",
    "\n",
    "def data_cleanse(rn_df):\n",
    "    # remove outliers w/r/t duration_sec\n",
    "    #   Use three-sigma rule for outlier removal\n",
    "    #mean_duration = rn_df[\"duration_sec\"].groupby([]).mean()\n",
    "    #std_duration = rn_df[\"duration_sec\"].groupby([]).std()\n",
    "    return rn_df\n",
    "\n",
    "def get_aggregate_df():\n",
    "    full_df = pd.DataFrame()\n",
    "    \n",
    "    def append_to_df(yr, mt, full_df):\n",
    "        mt_str = (\"0\" if mt < 10 else \"\") + str(mt)\n",
    "        mt_df = pd.DataFrame()\n",
    "        if is_fgb(yr, mt):\n",
    "            mt_df = pd.read_csv(fgb_ft.format(yr, mt_str))\n",
    "            mt_df = fgb_assimilation(mt_df)\n",
    "        else:\n",
    "            mt_df = pd.read_csv(baywheels_ft.format(yr, mt_str))\n",
    "            mt_df = baywheels_assimilation(mt_df)\n",
    "        mt_df[\"Year\"] = yr\n",
    "        mt_df[\"Month\"] = mt\n",
    "        full_df = pd.concat([full_df, mt_df])\n",
    "        return full_df\n",
    "\n",
    "    for yr in range(starting_year, ending_year+1):\n",
    "        for mt in range(1, 12):\n",
    "            full_df = append_to_df(yr, mt, full_df)\n",
    "    return data_cleanse(full_df.reset_index(drop=True))"
   ]
  },
  {
   "cell_type": "code",
   "execution_count": 8,
   "id": "3c2b0d9b-580b-4a73-a67e-94444690e4b7",
   "metadata": {},
   "outputs": [
    {
     "name": "stderr",
     "output_type": "stream",
     "text": [
      "/tmp/ipykernel_23378/1713168442.py:38: DtypeWarning: Columns (14) have mixed types. Specify dtype option on import or set low_memory=False.\n",
      "  mt_df = pd.read_csv(baywheels_ft.format(yr, mt_str))\n",
      "/tmp/ipykernel_23378/1713168442.py:38: DtypeWarning: Columns (13,14) have mixed types. Specify dtype option on import or set low_memory=False.\n",
      "  mt_df = pd.read_csv(baywheels_ft.format(yr, mt_str))\n",
      "/tmp/ipykernel_23378/1713168442.py:38: DtypeWarning: Columns (14) have mixed types. Specify dtype option on import or set low_memory=False.\n",
      "  mt_df = pd.read_csv(baywheels_ft.format(yr, mt_str))\n",
      "/tmp/ipykernel_23378/1713168442.py:38: DtypeWarning: Columns (13) have mixed types. Specify dtype option on import or set low_memory=False.\n",
      "  mt_df = pd.read_csv(baywheels_ft.format(yr, mt_str))\n",
      "/tmp/ipykernel_23378/1713168442.py:38: DtypeWarning: Columns (13) have mixed types. Specify dtype option on import or set low_memory=False.\n",
      "  mt_df = pd.read_csv(baywheels_ft.format(yr, mt_str))\n"
     ]
    },
    {
     "ename": "KeyboardInterrupt",
     "evalue": "",
     "output_type": "error",
     "traceback": [
      "\u001b[0;31m---------------------------------------------------------------------------\u001b[0m",
      "\u001b[0;31mKeyboardInterrupt\u001b[0m                         Traceback (most recent call last)",
      "\u001b[0;32m/tmp/ipykernel_23378/623353236.py\u001b[0m in \u001b[0;36m<module>\u001b[0;34m\u001b[0m\n\u001b[0;32m----> 1\u001b[0;31m \u001b[0magg_df\u001b[0m \u001b[0;34m=\u001b[0m \u001b[0mget_aggregate_df\u001b[0m\u001b[0;34m(\u001b[0m\u001b[0;34m)\u001b[0m\u001b[0;34m\u001b[0m\u001b[0;34m\u001b[0m\u001b[0m\n\u001b[0m",
      "\u001b[0;32m/tmp/ipykernel_23378/1713168442.py\u001b[0m in \u001b[0;36mget_aggregate_df\u001b[0;34m()\u001b[0m\n\u001b[1;32m     45\u001b[0m     \u001b[0;32mfor\u001b[0m \u001b[0myr\u001b[0m \u001b[0;32min\u001b[0m \u001b[0mrange\u001b[0m\u001b[0;34m(\u001b[0m\u001b[0mstarting_year\u001b[0m\u001b[0;34m,\u001b[0m \u001b[0mending_year\u001b[0m\u001b[0;34m+\u001b[0m\u001b[0;36m1\u001b[0m\u001b[0;34m)\u001b[0m\u001b[0;34m:\u001b[0m\u001b[0;34m\u001b[0m\u001b[0;34m\u001b[0m\u001b[0m\n\u001b[1;32m     46\u001b[0m         \u001b[0;32mfor\u001b[0m \u001b[0mmt\u001b[0m \u001b[0;32min\u001b[0m \u001b[0mrange\u001b[0m\u001b[0;34m(\u001b[0m\u001b[0;36m1\u001b[0m\u001b[0;34m,\u001b[0m \u001b[0;36m12\u001b[0m\u001b[0;34m)\u001b[0m\u001b[0;34m:\u001b[0m\u001b[0;34m\u001b[0m\u001b[0;34m\u001b[0m\u001b[0m\n\u001b[0;32m---> 47\u001b[0;31m             \u001b[0mfull_df\u001b[0m \u001b[0;34m=\u001b[0m \u001b[0mappend_to_df\u001b[0m\u001b[0;34m(\u001b[0m\u001b[0myr\u001b[0m\u001b[0;34m,\u001b[0m \u001b[0mmt\u001b[0m\u001b[0;34m,\u001b[0m \u001b[0mfull_df\u001b[0m\u001b[0;34m)\u001b[0m\u001b[0;34m\u001b[0m\u001b[0;34m\u001b[0m\u001b[0m\n\u001b[0m\u001b[1;32m     48\u001b[0m     \u001b[0;32mreturn\u001b[0m \u001b[0mdata_cleanse\u001b[0m\u001b[0;34m(\u001b[0m\u001b[0mfull_df\u001b[0m\u001b[0;34m.\u001b[0m\u001b[0mreset_index\u001b[0m\u001b[0;34m(\u001b[0m\u001b[0mdrop\u001b[0m\u001b[0;34m=\u001b[0m\u001b[0;32mTrue\u001b[0m\u001b[0;34m)\u001b[0m\u001b[0;34m)\u001b[0m\u001b[0;34m\u001b[0m\u001b[0;34m\u001b[0m\u001b[0m\n",
      "\u001b[0;32m/tmp/ipykernel_23378/1713168442.py\u001b[0m in \u001b[0;36mappend_to_df\u001b[0;34m(yr, mt, full_df)\u001b[0m\n\u001b[1;32m     37\u001b[0m         \u001b[0;32melse\u001b[0m\u001b[0;34m:\u001b[0m\u001b[0;34m\u001b[0m\u001b[0;34m\u001b[0m\u001b[0m\n\u001b[1;32m     38\u001b[0m             \u001b[0mmt_df\u001b[0m \u001b[0;34m=\u001b[0m \u001b[0mpd\u001b[0m\u001b[0;34m.\u001b[0m\u001b[0mread_csv\u001b[0m\u001b[0;34m(\u001b[0m\u001b[0mbaywheels_ft\u001b[0m\u001b[0;34m.\u001b[0m\u001b[0mformat\u001b[0m\u001b[0;34m(\u001b[0m\u001b[0myr\u001b[0m\u001b[0;34m,\u001b[0m \u001b[0mmt_str\u001b[0m\u001b[0;34m)\u001b[0m\u001b[0;34m)\u001b[0m\u001b[0;34m\u001b[0m\u001b[0;34m\u001b[0m\u001b[0m\n\u001b[0;32m---> 39\u001b[0;31m             \u001b[0mmt_df\u001b[0m \u001b[0;34m=\u001b[0m \u001b[0mbaywheels_assimilation\u001b[0m\u001b[0;34m(\u001b[0m\u001b[0mmt_df\u001b[0m\u001b[0;34m)\u001b[0m\u001b[0;34m\u001b[0m\u001b[0;34m\u001b[0m\u001b[0m\n\u001b[0m\u001b[1;32m     40\u001b[0m         \u001b[0mmt_df\u001b[0m\u001b[0;34m[\u001b[0m\u001b[0;34m\"Year\"\u001b[0m\u001b[0;34m]\u001b[0m \u001b[0;34m=\u001b[0m \u001b[0myr\u001b[0m\u001b[0;34m\u001b[0m\u001b[0;34m\u001b[0m\u001b[0m\n\u001b[1;32m     41\u001b[0m         \u001b[0mmt_df\u001b[0m\u001b[0;34m[\u001b[0m\u001b[0;34m\"Month\"\u001b[0m\u001b[0;34m]\u001b[0m \u001b[0;34m=\u001b[0m \u001b[0mmt\u001b[0m\u001b[0;34m\u001b[0m\u001b[0;34m\u001b[0m\u001b[0m\n",
      "\u001b[0;32m/tmp/ipykernel_23378/1713168442.py\u001b[0m in \u001b[0;36mbaywheels_assimilation\u001b[0;34m(baywheels_df)\u001b[0m\n\u001b[1;32m     10\u001b[0m         }, axis=1)\n\u001b[1;32m     11\u001b[0m     \u001b[0mrn_df\u001b[0m\u001b[0;34m[\u001b[0m\u001b[0;34m\"start_time\"\u001b[0m\u001b[0;34m]\u001b[0m \u001b[0;34m=\u001b[0m \u001b[0mrn_df\u001b[0m\u001b[0;34m[\u001b[0m\u001b[0;34m\"start_time\"\u001b[0m\u001b[0;34m]\u001b[0m\u001b[0;34m.\u001b[0m\u001b[0mapply\u001b[0m\u001b[0;34m(\u001b[0m\u001b[0mdatetime_transform\u001b[0m\u001b[0;34m)\u001b[0m\u001b[0;34m\u001b[0m\u001b[0;34m\u001b[0m\u001b[0m\n\u001b[0;32m---> 12\u001b[0;31m     \u001b[0mrn_df\u001b[0m\u001b[0;34m[\u001b[0m\u001b[0;34m\"end_time\"\u001b[0m\u001b[0;34m]\u001b[0m \u001b[0;34m=\u001b[0m \u001b[0mrn_df\u001b[0m\u001b[0;34m[\u001b[0m\u001b[0;34m\"end_time\"\u001b[0m\u001b[0;34m]\u001b[0m\u001b[0;34m.\u001b[0m\u001b[0mapply\u001b[0m\u001b[0;34m(\u001b[0m\u001b[0mdatetime_transform\u001b[0m\u001b[0;34m)\u001b[0m\u001b[0;34m\u001b[0m\u001b[0;34m\u001b[0m\u001b[0m\n\u001b[0m\u001b[1;32m     13\u001b[0m     \u001b[0mrn_df\u001b[0m\u001b[0;34m[\u001b[0m\u001b[0;34m\"duration_sec\"\u001b[0m\u001b[0;34m]\u001b[0m \u001b[0;34m=\u001b[0m \u001b[0;34m(\u001b[0m\u001b[0mrn_df\u001b[0m\u001b[0;34m[\u001b[0m\u001b[0;34m\"end_time\"\u001b[0m\u001b[0;34m]\u001b[0m \u001b[0;34m-\u001b[0m \u001b[0mrn_df\u001b[0m\u001b[0;34m[\u001b[0m\u001b[0;34m\"start_time\"\u001b[0m\u001b[0;34m]\u001b[0m\u001b[0;34m)\u001b[0m\u001b[0;34m.\u001b[0m\u001b[0mapply\u001b[0m\u001b[0;34m(\u001b[0m\u001b[0;32mlambda\u001b[0m \u001b[0mx\u001b[0m\u001b[0;34m:\u001b[0m \u001b[0mx\u001b[0m\u001b[0;34m.\u001b[0m\u001b[0mseconds\u001b[0m\u001b[0;34m)\u001b[0m\u001b[0;34m\u001b[0m\u001b[0;34m\u001b[0m\u001b[0m\n\u001b[1;32m     14\u001b[0m     \u001b[0;32mreturn\u001b[0m \u001b[0mrn_df\u001b[0m\u001b[0;34m\u001b[0m\u001b[0;34m\u001b[0m\u001b[0m\n",
      "\u001b[0;32m~/.local/lib/python3.9/site-packages/pandas/core/series.py\u001b[0m in \u001b[0;36mapply\u001b[0;34m(self, func, convert_dtype, args, **kwargs)\u001b[0m\n\u001b[1;32m   4431\u001b[0m         \u001b[0mdtype\u001b[0m\u001b[0;34m:\u001b[0m \u001b[0mfloat64\u001b[0m\u001b[0;34m\u001b[0m\u001b[0;34m\u001b[0m\u001b[0m\n\u001b[1;32m   4432\u001b[0m         \"\"\"\n\u001b[0;32m-> 4433\u001b[0;31m         \u001b[0;32mreturn\u001b[0m \u001b[0mSeriesApply\u001b[0m\u001b[0;34m(\u001b[0m\u001b[0mself\u001b[0m\u001b[0;34m,\u001b[0m \u001b[0mfunc\u001b[0m\u001b[0;34m,\u001b[0m \u001b[0mconvert_dtype\u001b[0m\u001b[0;34m,\u001b[0m \u001b[0margs\u001b[0m\u001b[0;34m,\u001b[0m \u001b[0mkwargs\u001b[0m\u001b[0;34m)\u001b[0m\u001b[0;34m.\u001b[0m\u001b[0mapply\u001b[0m\u001b[0;34m(\u001b[0m\u001b[0;34m)\u001b[0m\u001b[0;34m\u001b[0m\u001b[0;34m\u001b[0m\u001b[0m\n\u001b[0m\u001b[1;32m   4434\u001b[0m \u001b[0;34m\u001b[0m\u001b[0m\n\u001b[1;32m   4435\u001b[0m     def _reduce(\n",
      "\u001b[0;32m~/.local/lib/python3.9/site-packages/pandas/core/apply.py\u001b[0m in \u001b[0;36mapply\u001b[0;34m(self)\u001b[0m\n\u001b[1;32m   1080\u001b[0m             \u001b[0;32mreturn\u001b[0m \u001b[0mself\u001b[0m\u001b[0;34m.\u001b[0m\u001b[0mapply_str\u001b[0m\u001b[0;34m(\u001b[0m\u001b[0;34m)\u001b[0m\u001b[0;34m\u001b[0m\u001b[0;34m\u001b[0m\u001b[0m\n\u001b[1;32m   1081\u001b[0m \u001b[0;34m\u001b[0m\u001b[0m\n\u001b[0;32m-> 1082\u001b[0;31m         \u001b[0;32mreturn\u001b[0m \u001b[0mself\u001b[0m\u001b[0;34m.\u001b[0m\u001b[0mapply_standard\u001b[0m\u001b[0;34m(\u001b[0m\u001b[0;34m)\u001b[0m\u001b[0;34m\u001b[0m\u001b[0;34m\u001b[0m\u001b[0m\n\u001b[0m\u001b[1;32m   1083\u001b[0m \u001b[0;34m\u001b[0m\u001b[0m\n\u001b[1;32m   1084\u001b[0m     \u001b[0;32mdef\u001b[0m \u001b[0magg\u001b[0m\u001b[0;34m(\u001b[0m\u001b[0mself\u001b[0m\u001b[0;34m)\u001b[0m\u001b[0;34m:\u001b[0m\u001b[0;34m\u001b[0m\u001b[0;34m\u001b[0m\u001b[0m\n",
      "\u001b[0;32m~/.local/lib/python3.9/site-packages/pandas/core/apply.py\u001b[0m in \u001b[0;36mapply_standard\u001b[0;34m(self)\u001b[0m\n\u001b[1;32m   1135\u001b[0m                 \u001b[0;31m# List[Union[Callable[..., Any], str]]]]]\"; expected\u001b[0m\u001b[0;34m\u001b[0m\u001b[0;34m\u001b[0m\u001b[0m\n\u001b[1;32m   1136\u001b[0m                 \u001b[0;31m# \"Callable[[Any], Any]\"\u001b[0m\u001b[0;34m\u001b[0m\u001b[0;34m\u001b[0m\u001b[0m\n\u001b[0;32m-> 1137\u001b[0;31m                 mapped = lib.map_infer(\n\u001b[0m\u001b[1;32m   1138\u001b[0m                     \u001b[0mvalues\u001b[0m\u001b[0;34m,\u001b[0m\u001b[0;34m\u001b[0m\u001b[0;34m\u001b[0m\u001b[0m\n\u001b[1;32m   1139\u001b[0m                     \u001b[0mf\u001b[0m\u001b[0;34m,\u001b[0m  \u001b[0;31m# type: ignore[arg-type]\u001b[0m\u001b[0;34m\u001b[0m\u001b[0;34m\u001b[0m\u001b[0m\n",
      "\u001b[0;32m~/.local/lib/python3.9/site-packages/pandas/_libs/lib.pyx\u001b[0m in \u001b[0;36mpandas._libs.lib.map_infer\u001b[0;34m()\u001b[0m\n",
      "\u001b[0;32m/tmp/ipykernel_23378/1796382323.py\u001b[0m in \u001b[0;36m<lambda>\u001b[0;34m(x)\u001b[0m\n\u001b[0;32m----> 1\u001b[0;31m \u001b[0mdatetime_transform\u001b[0m \u001b[0;34m=\u001b[0m \u001b[0;32mlambda\u001b[0m \u001b[0mx\u001b[0m\u001b[0;34m:\u001b[0m \u001b[0;34m(\u001b[0m\u001b[0mdatetime\u001b[0m\u001b[0;34m.\u001b[0m\u001b[0mstrptime\u001b[0m\u001b[0;34m(\u001b[0m\u001b[0mx\u001b[0m\u001b[0;34m.\u001b[0m\u001b[0msplit\u001b[0m\u001b[0;34m(\u001b[0m\u001b[0;34m\".\"\u001b[0m\u001b[0;34m)\u001b[0m\u001b[0;34m[\u001b[0m\u001b[0;36m0\u001b[0m\u001b[0;34m]\u001b[0m\u001b[0;34m,\u001b[0m \u001b[0;34m\"%Y-%m-%d %H:%M:%S\"\u001b[0m\u001b[0;34m)\u001b[0m\u001b[0;34m)\u001b[0m \u001b[0;32mif\u001b[0m \u001b[0mtype\u001b[0m\u001b[0;34m(\u001b[0m\u001b[0mx\u001b[0m\u001b[0;34m)\u001b[0m \u001b[0;34m==\u001b[0m \u001b[0mstr\u001b[0m \u001b[0;32melse\u001b[0m \u001b[0mx\u001b[0m\u001b[0;34m\u001b[0m\u001b[0;34m\u001b[0m\u001b[0m\n\u001b[0m",
      "\u001b[0;32m~/anaconda3/lib/python3.9/_strptime.py\u001b[0m in \u001b[0;36m_strptime_datetime\u001b[0;34m(cls, data_string, format)\u001b[0m\n\u001b[1;32m    566\u001b[0m     \"\"\"Return a class cls instance based on the input string and the\n\u001b[1;32m    567\u001b[0m     format string.\"\"\"\n\u001b[0;32m--> 568\u001b[0;31m     \u001b[0mtt\u001b[0m\u001b[0;34m,\u001b[0m \u001b[0mfraction\u001b[0m\u001b[0;34m,\u001b[0m \u001b[0mgmtoff_fraction\u001b[0m \u001b[0;34m=\u001b[0m \u001b[0m_strptime\u001b[0m\u001b[0;34m(\u001b[0m\u001b[0mdata_string\u001b[0m\u001b[0;34m,\u001b[0m \u001b[0mformat\u001b[0m\u001b[0;34m)\u001b[0m\u001b[0;34m\u001b[0m\u001b[0;34m\u001b[0m\u001b[0m\n\u001b[0m\u001b[1;32m    569\u001b[0m     \u001b[0mtzname\u001b[0m\u001b[0;34m,\u001b[0m \u001b[0mgmtoff\u001b[0m \u001b[0;34m=\u001b[0m \u001b[0mtt\u001b[0m\u001b[0;34m[\u001b[0m\u001b[0;34m-\u001b[0m\u001b[0;36m2\u001b[0m\u001b[0;34m:\u001b[0m\u001b[0;34m]\u001b[0m\u001b[0;34m\u001b[0m\u001b[0;34m\u001b[0m\u001b[0m\n\u001b[1;32m    570\u001b[0m     \u001b[0margs\u001b[0m \u001b[0;34m=\u001b[0m \u001b[0mtt\u001b[0m\u001b[0;34m[\u001b[0m\u001b[0;34m:\u001b[0m\u001b[0;36m6\u001b[0m\u001b[0;34m]\u001b[0m \u001b[0;34m+\u001b[0m \u001b[0;34m(\u001b[0m\u001b[0mfraction\u001b[0m\u001b[0;34m,\u001b[0m\u001b[0;34m)\u001b[0m\u001b[0;34m\u001b[0m\u001b[0;34m\u001b[0m\u001b[0m\n",
      "\u001b[0;32m~/anaconda3/lib/python3.9/_strptime.py\u001b[0m in \u001b[0;36m_strptime\u001b[0;34m(data_string, format)\u001b[0m\n\u001b[1;32m    345\u001b[0m                 \u001b[0;32mraise\u001b[0m \u001b[0mValueError\u001b[0m\u001b[0;34m(\u001b[0m\u001b[0;34m\"stray %% in format '%s'\"\u001b[0m \u001b[0;34m%\u001b[0m \u001b[0mformat\u001b[0m\u001b[0;34m)\u001b[0m \u001b[0;32mfrom\u001b[0m \u001b[0;32mNone\u001b[0m\u001b[0;34m\u001b[0m\u001b[0;34m\u001b[0m\u001b[0m\n\u001b[1;32m    346\u001b[0m             \u001b[0m_regex_cache\u001b[0m\u001b[0;34m[\u001b[0m\u001b[0mformat\u001b[0m\u001b[0;34m]\u001b[0m \u001b[0;34m=\u001b[0m \u001b[0mformat_regex\u001b[0m\u001b[0;34m\u001b[0m\u001b[0;34m\u001b[0m\u001b[0m\n\u001b[0;32m--> 347\u001b[0;31m     \u001b[0mfound\u001b[0m \u001b[0;34m=\u001b[0m \u001b[0mformat_regex\u001b[0m\u001b[0;34m.\u001b[0m\u001b[0mmatch\u001b[0m\u001b[0;34m(\u001b[0m\u001b[0mdata_string\u001b[0m\u001b[0;34m)\u001b[0m\u001b[0;34m\u001b[0m\u001b[0;34m\u001b[0m\u001b[0m\n\u001b[0m\u001b[1;32m    348\u001b[0m     \u001b[0;32mif\u001b[0m \u001b[0;32mnot\u001b[0m \u001b[0mfound\u001b[0m\u001b[0;34m:\u001b[0m\u001b[0;34m\u001b[0m\u001b[0;34m\u001b[0m\u001b[0m\n\u001b[1;32m    349\u001b[0m         raise ValueError(\"time data %r does not match format %r\" %\n",
      "\u001b[0;31mKeyboardInterrupt\u001b[0m: "
     ]
    }
   ],
   "source": [
    "agg_df = get_aggregate_df()"
   ]
  },
  {
   "cell_type": "code",
   "execution_count": null,
   "id": "2360b460-7d91-4142-806d-878b01682c87",
   "metadata": {},
   "outputs": [],
   "source": [
    "# [longitude_range, latitude_range]\n",
    "city_rectangles = {\n",
    "    \"Nashville\": [[-90,-80],[35,37]],\n",
    "    \"NorthCal\": [[-125,-115],[37,39]],\n",
    "}"
   ]
  },
  {
   "cell_type": "code",
   "execution_count": null,
   "id": "fcd89ede-f119-4218-9a10-53d7f122f12b",
   "metadata": {},
   "outputs": [],
   "source": [
    "bay_rectangles = {\n",
    "    \"San Francisco\": [[-122.55,-122.35], [37.67,37.82]],\n",
    "    \"Oakland\": [[-122.35, -122.12], [37.7, 37.92]],\n",
    "    \"San Jose\": [[-122, -121.75], [37.2, 37.5]],\n",
    "}"
   ]
  },
  {
   "cell_type": "code",
   "execution_count": null,
   "id": "261b6b1a-b1c1-4c58-8bdf-71b12a00a7f8",
   "metadata": {},
   "outputs": [],
   "source": [
    "agg_sf = agg_df[agg_df[\"start_station_latitude\"].apply(lambda x: x >=37.7 and x <=37.8) & agg_df[\"start_station_longitude\"].apply(lambda x: x >=-122.55 and x <=-122.35) ]"
   ]
  },
  {
   "cell_type": "code",
   "execution_count": null,
   "id": "deeafd56-4c69-41f9-9c83-0737b48d1c1d",
   "metadata": {},
   "outputs": [],
   "source": [
    "class SourceDest:\n",
    "    def __init__(self, st_long, st_lat, end_long, end_lat):\n",
    "        self.st_long  = st_long\n",
    "        self.st_lat   = st_lat\n",
    "        self.end_long = end_long\n",
    "        self.end_lat  = end_lat\n",
    "    def df_filter(self, df):\n",
    "        return df[(df[\"start_station_longitude\"] == self.st_long) &\n",
    "                  (df[\"start_station_latitude\"] == self.st_lat) &\n",
    "                  (df[\"end_station_longitude\"] == self.st_long) &\n",
    "                  (df[\"end_station_latitude\"]  == self.st_lat)]\n",
    "class SourceDestName:\n",
    "    def __init__(self, start_stn, end_stn):\n",
    "        self.start_stn = start_stn\n",
    "        self.end_stn = end_stn\n",
    "    def df_filter(self, df):\n",
    "        return df[(df[\"start_station_name\"] == self.start_stn) &\n",
    "                  (df[\"end_station_name\"] == self.end_stn)]"
   ]
  },
  {
   "cell_type": "code",
   "execution_count": null,
   "id": "2f92cc0b-6911-41e1-ba86-e8542bda1ccb",
   "metadata": {},
   "outputs": [],
   "source": [
    "route_counts = agg_sf.groupby([\"start_station_name\", \"end_station_name\"])[\"duration_sec\"].count().reset_index().rename({\"duration_sec\": \"count\"},axis=1)\n",
    "total_n_routes = route_counts.shape[0]\n",
    "routes_by_popularity = route_counts.sort_values(\"count\", ascending=False).reset_index().drop(\"index\", axis=1)\n",
    "#most_popular_routes_2 = most_popular_routes_2[:1000]"
   ]
  }
 ],
 "metadata": {
  "kernelspec": {
   "display_name": "Python 3 (ipykernel)",
   "language": "python",
   "name": "python3"
  },
  "language_info": {
   "codemirror_mode": {
    "name": "ipython",
    "version": 3
   },
   "file_extension": ".py",
   "mimetype": "text/x-python",
   "name": "python",
   "nbconvert_exporter": "python",
   "pygments_lexer": "ipython3",
   "version": "3.9.7"
  }
 },
 "nbformat": 4,
 "nbformat_minor": 5
}
